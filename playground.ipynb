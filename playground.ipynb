{
 "cells": [
  {
   "cell_type": "code",
   "execution_count": 2,
   "id": "7e02a1eb-e627-444b-a699-b40101cb5f5d",
   "metadata": {},
   "outputs": [],
   "source": [
    "import pandas as pd"
   ]
  },
  {
   "cell_type": "code",
   "execution_count": 5,
   "id": "802f6d5f-975d-4543-a4fd-0b62fe27bbb7",
   "metadata": {},
   "outputs": [],
   "source": [
    "df = pd.read_csv('data/universe.csv')"
   ]
  },
  {
   "cell_type": "code",
   "execution_count": 3,
   "id": "4a07fd50-87b0-4e2a-b40c-8c384129a65b",
   "metadata": {},
   "outputs": [
    {
     "name": "stdout",
     "output_type": "stream",
     "text": [
      "(16349, 33)\n",
      "Index(['EFFDATE', 'INDEX_ALIAS', 'SECURITY_ALIAS', 'CUSIP', 'TICKER',\n",
      "       'DESCRIPTION', 'COUNTRY', 'CURRENCY', 'COUPON', 'MAT_DT', 'RATING',\n",
      "       'FE_SECTOR', 'CLASS_1', 'CLASS_2', 'CLASS_3', 'CLASS_4', 'PRICE',\n",
      "       'MODDUR', 'EFFDUR', 'OAS', 'YTM', 'SDUR', 'MV_BOM', 'MV', 'MW',\n",
      "       'DAY_TOT', 'DAY_EX', 'MTD_TOT', 'MTD_EX', 'DC', 'SDC', 'MV_TOT',\n",
      "       'DUR_CELL'],\n",
      "      dtype='object')\n"
     ]
    }
   ],
   "source": [
    "print(df.shape)\n",
    "print(df.columns)"
   ]
  },
  {
   "cell_type": "code",
   "execution_count": 52,
   "id": "0d980d96-c558-4d80-8d63-209295444aa5",
   "metadata": {},
   "outputs": [
    {
     "ename": "AssertionError",
     "evalue": "",
     "output_type": "error",
     "traceback": [
      "\u001b[0;31m---------------------------------------------------------------------------\u001b[0m",
      "\u001b[0;31mAssertionError\u001b[0m                            Traceback (most recent call last)",
      "\u001b[0;32m<ipython-input-52-d0fcd0aecf43>\u001b[0m in \u001b[0;36m<module>\u001b[0;34m\u001b[0m\n\u001b[0;32m----> 1\u001b[0;31m \u001b[0;32massert\u001b[0m \u001b[0mlen\u001b[0m\u001b[0;34m(\u001b[0m\u001b[0mdf\u001b[0m\u001b[0;34m[\u001b[0m\u001b[0;34m[\u001b[0m\u001b[0;34m'CUSIP'\u001b[0m\u001b[0;34m,\u001b[0m \u001b[0;34m'CLASS_1'\u001b[0m\u001b[0;34m,\u001b[0m \u001b[0;34m'CLASS_2'\u001b[0m\u001b[0;34m,\u001b[0m \u001b[0;34m'CLASS_3'\u001b[0m\u001b[0;34m,\u001b[0m \u001b[0;34m'CLASS_4'\u001b[0m\u001b[0;34m]\u001b[0m\u001b[0;34m]\u001b[0m\u001b[0;34m.\u001b[0m\u001b[0mdrop_duplicates\u001b[0m\u001b[0;34m(\u001b[0m\u001b[0;34m)\u001b[0m\u001b[0;34m)\u001b[0m \u001b[0;34m==\u001b[0m \u001b[0mlen\u001b[0m\u001b[0;34m(\u001b[0m\u001b[0mdf\u001b[0m\u001b[0;34m[\u001b[0m\u001b[0;34m'CUSIP'\u001b[0m\u001b[0;34m]\u001b[0m\u001b[0;34m.\u001b[0m\u001b[0munique\u001b[0m\u001b[0;34m(\u001b[0m\u001b[0;34m)\u001b[0m\u001b[0;34m)\u001b[0m\u001b[0;34m\u001b[0m\u001b[0;34m\u001b[0m\u001b[0m\n\u001b[0m",
      "\u001b[0;31mAssertionError\u001b[0m: "
     ]
    }
   ],
   "source": [
    "assert len(df[['CUSIP', 'CLASS_1', 'CLASS_2', 'CLASS_3', 'CLASS_4']].drop_duplicates()) == len(df['CUSIP'].unique())"
   ]
  },
  {
   "cell_type": "code",
   "execution_count": 47,
   "id": "aca8aff6-009d-4a85-a543-5c756ea2783d",
   "metadata": {},
   "outputs": [],
   "source": [
    "spares = df[['CUSIP', 'CLASS_1', 'CLASS_2', 'CLASS_3', 'CLASS_4']].drop_duplicates().groupby('CUSIP').count()"
   ]
  },
  {
   "cell_type": "code",
   "execution_count": 53,
   "id": "fb88b4f2-9490-424a-bf50-0cbdd6503955",
   "metadata": {},
   "outputs": [
    {
     "data": {
      "text/html": [
       "<div>\n",
       "<style scoped>\n",
       "    .dataframe tbody tr th:only-of-type {\n",
       "        vertical-align: middle;\n",
       "    }\n",
       "\n",
       "    .dataframe tbody tr th {\n",
       "        vertical-align: top;\n",
       "    }\n",
       "\n",
       "    .dataframe thead th {\n",
       "        text-align: right;\n",
       "    }\n",
       "</style>\n",
       "<table border=\"1\" class=\"dataframe\">\n",
       "  <thead>\n",
       "    <tr style=\"text-align: right;\">\n",
       "      <th></th>\n",
       "      <th>CLASS_1</th>\n",
       "      <th>CLASS_2</th>\n",
       "      <th>CLASS_3</th>\n",
       "      <th>CLASS_4</th>\n",
       "    </tr>\n",
       "    <tr>\n",
       "      <th>CUSIP</th>\n",
       "      <th></th>\n",
       "      <th></th>\n",
       "      <th></th>\n",
       "      <th></th>\n",
       "    </tr>\n",
       "  </thead>\n",
       "  <tbody>\n",
       "    <tr>\n",
       "      <th>74348DAA</th>\n",
       "      <td>2</td>\n",
       "      <td>2</td>\n",
       "      <td>2</td>\n",
       "      <td>2</td>\n",
       "    </tr>\n",
       "    <tr>\n",
       "      <th>74348DAA</th>\n",
       "      <td>2</td>\n",
       "      <td>2</td>\n",
       "      <td>2</td>\n",
       "      <td>2</td>\n",
       "    </tr>\n",
       "    <tr>\n",
       "      <th>74348DAA</th>\n",
       "      <td>2</td>\n",
       "      <td>2</td>\n",
       "      <td>2</td>\n",
       "      <td>2</td>\n",
       "    </tr>\n",
       "    <tr>\n",
       "      <th>74348DAA</th>\n",
       "      <td>2</td>\n",
       "      <td>2</td>\n",
       "      <td>2</td>\n",
       "      <td>2</td>\n",
       "    </tr>\n",
       "  </tbody>\n",
       "</table>\n",
       "</div>"
      ],
      "text/plain": [
       "          CLASS_1  CLASS_2  CLASS_3  CLASS_4\n",
       "CUSIP                                       \n",
       "74348DAA        2        2        2        2\n",
       "74348DAA        2        2        2        2\n",
       "74348DAA        2        2        2        2\n",
       "74348DAA        2        2        2        2"
      ]
     },
     "execution_count": 53,
     "metadata": {},
     "output_type": "execute_result"
    }
   ],
   "source": [
    "spares.loc[(spares > 1).values]"
   ]
  },
  {
   "cell_type": "code",
   "execution_count": 65,
   "id": "8038542a-876c-4e1a-977f-e5313f40a859",
   "metadata": {},
   "outputs": [
    {
     "data": {
      "text/html": [
       "<div>\n",
       "<style scoped>\n",
       "    .dataframe tbody tr th:only-of-type {\n",
       "        vertical-align: middle;\n",
       "    }\n",
       "\n",
       "    .dataframe tbody tr th {\n",
       "        vertical-align: top;\n",
       "    }\n",
       "\n",
       "    .dataframe thead th {\n",
       "        text-align: right;\n",
       "    }\n",
       "</style>\n",
       "<table border=\"1\" class=\"dataframe\">\n",
       "  <thead>\n",
       "    <tr style=\"text-align: right;\">\n",
       "      <th></th>\n",
       "      <th>CLASS_1</th>\n",
       "      <th>CLASS_2</th>\n",
       "      <th>CLASS_3</th>\n",
       "      <th>CLASS_4</th>\n",
       "    </tr>\n",
       "  </thead>\n",
       "  <tbody>\n",
       "    <tr>\n",
       "      <th>7046</th>\n",
       "      <td>CORPORATES</td>\n",
       "      <td>INDUSTRIAL</td>\n",
       "      <td>TRANSPORTATION</td>\n",
       "      <td>TRANSPORTATION_SERVICES</td>\n",
       "    </tr>\n",
       "    <tr>\n",
       "      <th>10014</th>\n",
       "      <td>CORPORATES</td>\n",
       "      <td>UTILITY</td>\n",
       "      <td>UTILITY_OTHER</td>\n",
       "      <td>UTILITY_OTHER</td>\n",
       "    </tr>\n",
       "  </tbody>\n",
       "</table>\n",
       "</div>"
      ],
      "text/plain": [
       "          CLASS_1     CLASS_2         CLASS_3                  CLASS_4\n",
       "7046   CORPORATES  INDUSTRIAL  TRANSPORTATION  TRANSPORTATION_SERVICES\n",
       "10014  CORPORATES     UTILITY   UTILITY_OTHER            UTILITY_OTHER"
      ]
     },
     "execution_count": 65,
     "metadata": {},
     "output_type": "execute_result"
    }
   ],
   "source": [
    "df[df['CUSIP'] == '74348DAA'][['CLASS_1', 'CLASS_2', 'CLASS_3', 'CLASS_4']]"
   ]
  },
  {
   "cell_type": "code",
   "execution_count": 73,
   "id": "460b3659-0223-43ee-aadf-8c326f1ab198",
   "metadata": {},
   "outputs": [
    {
     "data": {
      "text/plain": [
       "'2/29/2020'"
      ]
     },
     "execution_count": 73,
     "metadata": {},
     "output_type": "execute_result"
    }
   ],
   "source": [
    "df['EFFDATE'].iloc[0]"
   ]
  },
  {
   "cell_type": "code",
   "execution_count": 7,
   "id": "36aa4d85-a127-4a9f-927a-364716067318",
   "metadata": {},
   "outputs": [
    {
     "data": {
      "text/plain": [
       "array(['BBB', 'A', 'AA', 'AAA'], dtype=object)"
      ]
     },
     "execution_count": 7,
     "metadata": {},
     "output_type": "execute_result"
    }
   ],
   "source": [
    "df['RATING'].unique()"
   ]
  },
  {
   "cell_type": "code",
   "execution_count": 10,
   "id": "a00c477f-65ca-4837-9d1f-70b08d236d78",
   "metadata": {},
   "outputs": [
    {
     "data": {
      "text/plain": [
       "138.331123"
      ]
     },
     "execution_count": 10,
     "metadata": {},
     "output_type": "execute_result"
    }
   ],
   "source": [
    "min(df['MV'])"
   ]
  },
  {
   "cell_type": "code",
   "execution_count": null,
   "id": "36645738-4419-47c5-aa4f-540fdf418689",
   "metadata": {},
   "outputs": [],
   "source": []
  }
 ],
 "metadata": {
  "kernelspec": {
   "display_name": "Python (proj)",
   "language": "python",
   "name": "proj_env"
  },
  "language_info": {
   "codemirror_mode": {
    "name": "ipython",
    "version": 3
   },
   "file_extension": ".py",
   "mimetype": "text/x-python",
   "name": "python",
   "nbconvert_exporter": "python",
   "pygments_lexer": "ipython3",
   "version": "3.9.5"
  }
 },
 "nbformat": 4,
 "nbformat_minor": 5
}
