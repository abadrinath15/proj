{
 "cells": [
  {
   "cell_type": "code",
   "execution_count": 2,
   "id": "7e02a1eb-e627-444b-a699-b40101cb5f5d",
   "metadata": {},
   "outputs": [],
   "source": [
    "import pandas as pd"
   ]
  },
  {
   "cell_type": "code",
   "execution_count": 5,
   "id": "802f6d5f-975d-4543-a4fd-0b62fe27bbb7",
   "metadata": {},
   "outputs": [],
   "source": [
    "df = pd.read_csv('data/universe.csv')"
   ]
  },
  {
   "cell_type": "code",
   "execution_count": 3,
   "id": "4a07fd50-87b0-4e2a-b40c-8c384129a65b",
   "metadata": {},
   "outputs": [
    {
     "name": "stdout",
     "output_type": "stream",
     "text": [
      "(16349, 33)\n",
      "Index(['EFFDATE', 'INDEX_ALIAS', 'SECURITY_ALIAS', 'CUSIP', 'TICKER',\n",
      "       'DESCRIPTION', 'COUNTRY', 'CURRENCY', 'COUPON', 'MAT_DT', 'RATING',\n",
      "       'FE_SECTOR', 'CLASS_1', 'CLASS_2', 'CLASS_3', 'CLASS_4', 'PRICE',\n",
      "       'MODDUR', 'EFFDUR', 'OAS', 'YTM', 'SDUR', 'MV_BOM', 'MV', 'MW',\n",
      "       'DAY_TOT', 'DAY_EX', 'MTD_TOT', 'MTD_EX', 'DC', 'SDC', 'MV_TOT',\n",
      "       'DUR_CELL'],\n",
      "      dtype='object')\n"
     ]
    }
   ],
   "source": [
    "print(df.shape)\n",
    "print(df.columns)"
   ]
  },
  {
   "cell_type": "code",
   "execution_count": 52,
   "id": "0d980d96-c558-4d80-8d63-209295444aa5",
   "metadata": {},
   "outputs": [
    {
     "ename": "AssertionError",
     "evalue": "",
     "output_type": "error",
     "traceback": [
      "\u001b[0;31m---------------------------------------------------------------------------\u001b[0m",
      "\u001b[0;31mAssertionError\u001b[0m                            Traceback (most recent call last)",
      "\u001b[0;32m<ipython-input-52-d0fcd0aecf43>\u001b[0m in \u001b[0;36m<module>\u001b[0;34m\u001b[0m\n\u001b[0;32m----> 1\u001b[0;31m \u001b[0;32massert\u001b[0m \u001b[0mlen\u001b[0m\u001b[0;34m(\u001b[0m\u001b[0mdf\u001b[0m\u001b[0;34m[\u001b[0m\u001b[0;34m[\u001b[0m\u001b[0;34m'CUSIP'\u001b[0m\u001b[0;34m,\u001b[0m \u001b[0;34m'CLASS_1'\u001b[0m\u001b[0;34m,\u001b[0m \u001b[0;34m'CLASS_2'\u001b[0m\u001b[0;34m,\u001b[0m \u001b[0;34m'CLASS_3'\u001b[0m\u001b[0;34m,\u001b[0m \u001b[0;34m'CLASS_4'\u001b[0m\u001b[0;34m]\u001b[0m\u001b[0;34m]\u001b[0m\u001b[0;34m.\u001b[0m\u001b[0mdrop_duplicates\u001b[0m\u001b[0;34m(\u001b[0m\u001b[0;34m)\u001b[0m\u001b[0;34m)\u001b[0m \u001b[0;34m==\u001b[0m \u001b[0mlen\u001b[0m\u001b[0;34m(\u001b[0m\u001b[0mdf\u001b[0m\u001b[0;34m[\u001b[0m\u001b[0;34m'CUSIP'\u001b[0m\u001b[0;34m]\u001b[0m\u001b[0;34m.\u001b[0m\u001b[0munique\u001b[0m\u001b[0;34m(\u001b[0m\u001b[0;34m)\u001b[0m\u001b[0;34m)\u001b[0m\u001b[0;34m\u001b[0m\u001b[0;34m\u001b[0m\u001b[0m\n\u001b[0m",
      "\u001b[0;31mAssertionError\u001b[0m: "
     ]
    }
   ],
   "source": [
    "assert len(df[['CUSIP', 'CLASS_1', 'CLASS_2', 'CLASS_3', 'CLASS_4']].drop_duplicates()) == len(df['CUSIP'].unique())"
   ]
  },
  {
   "cell_type": "code",
   "execution_count": 47,
   "id": "aca8aff6-009d-4a85-a543-5c756ea2783d",
   "metadata": {},
   "outputs": [],
   "source": [
    "spares = df[['CUSIP', 'CLASS_1', 'CLASS_2', 'CLASS_3', 'CLASS_4']].drop_duplicates().groupby('CUSIP').count()"
   ]
  },
  {
   "cell_type": "code",
   "execution_count": 53,
   "id": "fb88b4f2-9490-424a-bf50-0cbdd6503955",
   "metadata": {},
   "outputs": [
    {
     "data": {
      "text/html": [
       "<div>\n",
       "<style scoped>\n",
       "    .dataframe tbody tr th:only-of-type {\n",
       "        vertical-align: middle;\n",
       "    }\n",
       "\n",
       "    .dataframe tbody tr th {\n",
       "        vertical-align: top;\n",
       "    }\n",
       "\n",
       "    .dataframe thead th {\n",
       "        text-align: right;\n",
       "    }\n",
       "</style>\n",
       "<table border=\"1\" class=\"dataframe\">\n",
       "  <thead>\n",
       "    <tr style=\"text-align: right;\">\n",
       "      <th></th>\n",
       "      <th>CLASS_1</th>\n",
       "      <th>CLASS_2</th>\n",
       "      <th>CLASS_3</th>\n",
       "      <th>CLASS_4</th>\n",
       "    </tr>\n",
       "    <tr>\n",
       "      <th>CUSIP</th>\n",
       "      <th></th>\n",
       "      <th></th>\n",
       "      <th></th>\n",
       "      <th></th>\n",
       "    </tr>\n",
       "  </thead>\n",
       "  <tbody>\n",
       "    <tr>\n",
       "      <th>74348DAA</th>\n",
       "      <td>2</td>\n",
       "      <td>2</td>\n",
       "      <td>2</td>\n",
       "      <td>2</td>\n",
       "    </tr>\n",
       "    <tr>\n",
       "      <th>74348DAA</th>\n",
       "      <td>2</td>\n",
       "      <td>2</td>\n",
       "      <td>2</td>\n",
       "      <td>2</td>\n",
       "    </tr>\n",
       "    <tr>\n",
       "      <th>74348DAA</th>\n",
       "      <td>2</td>\n",
       "      <td>2</td>\n",
       "      <td>2</td>\n",
       "      <td>2</td>\n",
       "    </tr>\n",
       "    <tr>\n",
       "      <th>74348DAA</th>\n",
       "      <td>2</td>\n",
       "      <td>2</td>\n",
       "      <td>2</td>\n",
       "      <td>2</td>\n",
       "    </tr>\n",
       "  </tbody>\n",
       "</table>\n",
       "</div>"
      ],
      "text/plain": [
       "          CLASS_1  CLASS_2  CLASS_3  CLASS_4\n",
       "CUSIP                                       \n",
       "74348DAA        2        2        2        2\n",
       "74348DAA        2        2        2        2\n",
       "74348DAA        2        2        2        2\n",
       "74348DAA        2        2        2        2"
      ]
     },
     "execution_count": 53,
     "metadata": {},
     "output_type": "execute_result"
    }
   ],
   "source": [
    "spares.loc[(spares > 1).values]"
   ]
  },
  {
   "cell_type": "code",
   "execution_count": 65,
   "id": "8038542a-876c-4e1a-977f-e5313f40a859",
   "metadata": {},
   "outputs": [
    {
     "data": {
      "text/html": [
       "<div>\n",
       "<style scoped>\n",
       "    .dataframe tbody tr th:only-of-type {\n",
       "        vertical-align: middle;\n",
       "    }\n",
       "\n",
       "    .dataframe tbody tr th {\n",
       "        vertical-align: top;\n",
       "    }\n",
       "\n",
       "    .dataframe thead th {\n",
       "        text-align: right;\n",
       "    }\n",
       "</style>\n",
       "<table border=\"1\" class=\"dataframe\">\n",
       "  <thead>\n",
       "    <tr style=\"text-align: right;\">\n",
       "      <th></th>\n",
       "      <th>CLASS_1</th>\n",
       "      <th>CLASS_2</th>\n",
       "      <th>CLASS_3</th>\n",
       "      <th>CLASS_4</th>\n",
       "    </tr>\n",
       "  </thead>\n",
       "  <tbody>\n",
       "    <tr>\n",
       "      <th>7046</th>\n",
       "      <td>CORPORATES</td>\n",
       "      <td>INDUSTRIAL</td>\n",
       "      <td>TRANSPORTATION</td>\n",
       "      <td>TRANSPORTATION_SERVICES</td>\n",
       "    </tr>\n",
       "    <tr>\n",
       "      <th>10014</th>\n",
       "      <td>CORPORATES</td>\n",
       "      <td>UTILITY</td>\n",
       "      <td>UTILITY_OTHER</td>\n",
       "      <td>UTILITY_OTHER</td>\n",
       "    </tr>\n",
       "  </tbody>\n",
       "</table>\n",
       "</div>"
      ],
      "text/plain": [
       "          CLASS_1     CLASS_2         CLASS_3                  CLASS_4\n",
       "7046   CORPORATES  INDUSTRIAL  TRANSPORTATION  TRANSPORTATION_SERVICES\n",
       "10014  CORPORATES     UTILITY   UTILITY_OTHER            UTILITY_OTHER"
      ]
     },
     "execution_count": 65,
     "metadata": {},
     "output_type": "execute_result"
    }
   ],
   "source": [
    "df[df['CUSIP'] == '74348DAA'][['CLASS_1', 'CLASS_2', 'CLASS_3', 'CLASS_4']]"
   ]
  },
  {
   "cell_type": "code",
   "execution_count": 73,
   "id": "460b3659-0223-43ee-aadf-8c326f1ab198",
   "metadata": {},
   "outputs": [
    {
     "data": {
      "text/plain": [
       "'2/29/2020'"
      ]
     },
     "execution_count": 73,
     "metadata": {},
     "output_type": "execute_result"
    }
   ],
   "source": [
    "df['EFFDATE'].iloc[0]"
   ]
  },
  {
   "cell_type": "code",
   "execution_count": 7,
   "id": "36aa4d85-a127-4a9f-927a-364716067318",
   "metadata": {},
   "outputs": [
    {
     "data": {
      "text/plain": [
       "array(['BBB', 'A', 'AA', 'AAA'], dtype=object)"
      ]
     },
     "execution_count": 7,
     "metadata": {},
     "output_type": "execute_result"
    }
   ],
   "source": [
    "df['RATING'].unique()"
   ]
  },
  {
   "cell_type": "code",
   "execution_count": 10,
   "id": "a00c477f-65ca-4837-9d1f-70b08d236d78",
   "metadata": {},
   "outputs": [
    {
     "data": {
      "text/plain": [
       "138.331123"
      ]
     },
     "execution_count": 10,
     "metadata": {},
     "output_type": "execute_result"
    }
   ],
   "source": [
    "min(df['MV'])"
   ]
  },
  {
   "cell_type": "code",
   "execution_count": 12,
   "id": "36645738-4419-47c5-aa4f-540fdf418689",
   "metadata": {},
   "outputs": [
    {
     "data": {
      "text/plain": [
       "array(['USD'], dtype=object)"
      ]
     },
     "execution_count": 12,
     "metadata": {},
     "output_type": "execute_result"
    }
   ],
   "source": [
    "df['CURRENCY'].unique()"
   ]
  },
  {
   "cell_type": "code",
   "execution_count": 14,
   "id": "1f64adae-e9e7-40a2-9d60-454b45c528e0",
   "metadata": {},
   "outputs": [
    {
     "data": {
      "text/plain": [
       "array(['INDUSTRIAL', 'UTILITY', 'FINANCIAL'], dtype=object)"
      ]
     },
     "execution_count": 14,
     "metadata": {},
     "output_type": "execute_result"
    }
   ],
   "source": [
    "df['CLASS_2'].unique()"
   ]
  },
  {
   "cell_type": "code",
   "execution_count": 15,
   "id": "fa3ca7d9-4520-48de-a788-5b3bc0edbfa5",
   "metadata": {},
   "outputs": [
    {
     "data": {
      "text/plain": [
       "0        2/29/2020\n",
       "1        2/29/2020\n",
       "2        2/29/2020\n",
       "3        2/29/2020\n",
       "4        2/29/2020\n",
       "           ...    \n",
       "16344    3/31/2020\n",
       "16345    3/31/2020\n",
       "16346    3/31/2020\n",
       "16347    3/31/2020\n",
       "16348    3/31/2020\n",
       "Name: EFFDATE, Length: 16349, dtype: object"
      ]
     },
     "execution_count": 15,
     "metadata": {},
     "output_type": "execute_result"
    }
   ],
   "source": [
    "df['EFFDATE']"
   ]
  },
  {
   "cell_type": "code",
   "execution_count": 16,
   "id": "5d88b113-cb81-4813-a26b-e6f60fdeef81",
   "metadata": {},
   "outputs": [
    {
     "data": {
      "text/plain": [
       "EFFDATE                           2/29/2020\n",
       "INDEX_ALIAS                          102454\n",
       "SECURITY_ALIAS                      4896121\n",
       "CUSIP                              40052VAE\n",
       "TICKER                               BIMBOA\n",
       "DESCRIPTION       Grupo Bimbo S.A.B de C.V.\n",
       "COUNTRY                                  MX\n",
       "CURRENCY                                USD\n",
       "COUPON                                  4.7\n",
       "MAT_DT                           11/10/2047\n",
       "RATING                                  BBB\n",
       "FE_SECTOR                              CORP\n",
       "CLASS_1                          CORPORATES\n",
       "CLASS_2                          INDUSTRIAL\n",
       "CLASS_3               CONSUMER_NON_CYCLICAL\n",
       "CLASS_4                   FOOD_AND_BEVERAGE\n",
       "PRICE                            114.365997\n",
       "MODDUR                               16.049\n",
       "EFFDUR                               16.364\n",
       "OAS                                     223\n",
       "YTM                                   3.851\n",
       "SDUR                                 15.687\n",
       "MV_BOM                           732.713805\n",
       "MV                               752.798557\n",
       "MW                                 0.000099\n",
       "DAY_TOT                            0.963278\n",
       "DAY_EX                            -1.173142\n",
       "MTD_TOT                               2.716\n",
       "MTD_EX                               -3.464\n",
       "DC                                 0.001622\n",
       "SDC                                0.001555\n",
       "MV_TOT                          7575395.915\n",
       "DUR_CELL                                15+\n",
       "Name: 0, dtype: object"
      ]
     },
     "execution_count": 16,
     "metadata": {},
     "output_type": "execute_result"
    }
   ],
   "source": [
    "df.iloc[0]"
   ]
  },
  {
   "cell_type": "code",
   "execution_count": 17,
   "id": "241e89db-8f49-4a29-982a-be3432f08a40",
   "metadata": {},
   "outputs": [],
   "source": [
    "import datetime as dt"
   ]
  },
  {
   "cell_type": "code",
   "execution_count": 21,
   "id": "04c60976-630d-4bec-9cf4-21aee362dbd6",
   "metadata": {},
   "outputs": [
    {
     "data": {
      "text/plain": [
       "7563004.096146999"
      ]
     },
     "execution_count": 21,
     "metadata": {},
     "output_type": "execute_result"
    }
   ],
   "source": [
    "df[df['EFFDATE'] == '2/29/2020']['MV'].sum()"
   ]
  },
  {
   "cell_type": "code",
   "execution_count": null,
   "id": "cd26a39a-b462-49f4-864d-b78cf7b535b2",
   "metadata": {},
   "outputs": [],
   "source": []
  }
 ],
 "metadata": {
  "kernelspec": {
   "display_name": "Python (proj)",
   "language": "python",
   "name": "proj_env"
  },
  "language_info": {
   "codemirror_mode": {
    "name": "ipython",
    "version": 3
   },
   "file_extension": ".py",
   "mimetype": "text/x-python",
   "name": "python",
   "nbconvert_exporter": "python",
   "pygments_lexer": "ipython3",
   "version": "3.9.5"
  }
 },
 "nbformat": 4,
 "nbformat_minor": 5
}
